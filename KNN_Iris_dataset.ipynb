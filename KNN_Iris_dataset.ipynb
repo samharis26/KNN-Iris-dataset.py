{
  "nbformat": 4,
  "nbformat_minor": 0,
  "metadata": {
    "colab": {
      "provenance": []
    },
    "kernelspec": {
      "name": "python3",
      "display_name": "Python 3"
    },
    "language_info": {
      "name": "python"
    }
  },
  "cells": [
    {
      "cell_type": "code",
      "execution_count": null,
      "metadata": {
        "id": "eRM-t3-yQ1js"
      },
      "outputs": [],
      "source": [
        "from pandas.core.describe import DataFrameDescriber\n",
        "#import nessary liberaries\n",
        "import numpy as np\n",
        "from sklearn import datasets\n",
        "from sklearn.model_selection import train_test_split\n",
        "from sklearn.neighbors import KNeighborsClassifier\n",
        "from sklearn.metrics import accuracy_score"
      ]
    },
    {
      "cell_type": "code",
      "source": [
        "iris = datasets.load_iris()\n",
        "X = iris.data\n",
        "y = iris.target\n",
        "\n",
        "\n",
        "\n",
        "#split the dataset into a training set and a testing set\n",
        "X_train, X_test, y_train, y_test = train_test_split(X, y, test_size=0.3, random_state=24)\n",
        "\n",
        "#create a KNN classifier\n",
        "k = 7\n",
        "knn_classifier = KNeighborsClassifier(n_neighbors=k)\n",
        "\n",
        "#fit the classifier to the training data\n",
        "knn_classifier.fit(X_train, y_train)\n",
        "\n",
        "#make predictions on the test data\n",
        "y_pred = knn_classifier.predict(X_test)\n",
        "\n",
        "#calculate the accuracy of the model\n",
        "accuracy = accuracy_score(y_test, y_pred)\n",
        "print(f\"accuracy: {accuracy *100:.2f}%\")"
      ],
      "metadata": {
        "colab": {
          "base_uri": "https://localhost:8080/"
        },
        "id": "uOWX5olFShWf",
        "outputId": "c10389d3-08af-487e-fbc5-c2ce08ecfa18"
      },
      "execution_count": null,
      "outputs": [
        {
          "output_type": "stream",
          "name": "stdout",
          "text": [
            "accuracy: 97.78%\n"
          ]
        }
      ]
    }
  ]
}